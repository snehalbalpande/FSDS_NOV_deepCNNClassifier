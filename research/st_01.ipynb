{
 "cells": [
  {
   "cell_type": "code",
   "execution_count": 1,
   "metadata": {},
   "outputs": [],
   "source": [
    "from collections import namedtuple\n",
    "import os\n",
    "os.chdir(\"../\")"
   ]
  },
  {
   "cell_type": "code",
   "execution_count": 2,
   "metadata": {},
   "outputs": [],
   "source": [
    "DataIngestionConfig = namedtuple(\"DataIngestionConfig\", [\n",
    "    \"root_dir\",\n",
    "    \"source_URL\",\n",
    "    \"local_data_file\",\n",
    "    \"unzip_dir\"\n",
    "])"
   ]
  },
  {
   "cell_type": "code",
   "execution_count": 6,
   "metadata": {},
   "outputs": [
    {
     "name": "stdout",
     "output_type": "stream",
     "text": [
      "Unexpected exception formatting exception. Falling back to standard exception\n"
     ]
    },
    {
     "name": "stderr",
     "output_type": "stream",
     "text": [
      "Traceback (most recent call last):\n",
      "  File \"c:\\Users\\Admin\\FSDS_NOV_deepCNNClassifier\\FSDS_NOV_deepCNNClassifier\\env\\lib\\site-packages\\IPython\\core\\interactiveshell.py\", line 3378, in run_code\n",
      "  File \"C:\\Users\\Admin\\AppData\\Local\\Temp\\ipykernel_14536\\452451358.py\", line 2, in <module>\n",
      "    from deepClassifier.utils import read_yaml, create_directories\n",
      "  File \"C:\\Users\\Admin\\FSDS_NOV_deepCNNClassifier\\FSDS_NOV_deepCNNClassifier\\src\\deepClassifier\\utils\\__init__.py\", line 1, in <module>\n",
      "    from deepClassifier.utils.common import *\n",
      "  File \"C:\\Users\\Admin\\FSDS_NOV_deepCNNClassifier\\FSDS_NOV_deepCNNClassifier\\src\\deepClassifier\\utils\\common.py\", line 2, in <module>\n",
      "    from box.exceptions import BoxValueError\n",
      "ModuleNotFoundError: No module named 'box'\n",
      "\n",
      "During handling of the above exception, another exception occurred:\n",
      "\n",
      "Traceback (most recent call last):\n",
      "  File \"c:\\Users\\Admin\\FSDS_NOV_deepCNNClassifier\\FSDS_NOV_deepCNNClassifier\\env\\lib\\site-packages\\pygments\\styles\\__init__.py\", line 82, in get_style_by_name\n",
      "ModuleNotFoundError: No module named 'pygments.styles.default'\n",
      "\n",
      "During handling of the above exception, another exception occurred:\n",
      "\n",
      "Traceback (most recent call last):\n",
      "  File \"c:\\Users\\Admin\\FSDS_NOV_deepCNNClassifier\\FSDS_NOV_deepCNNClassifier\\env\\lib\\site-packages\\IPython\\core\\interactiveshell.py\", line 1997, in showtraceback\n",
      "  File \"c:\\Users\\Admin\\FSDS_NOV_deepCNNClassifier\\FSDS_NOV_deepCNNClassifier\\env\\lib\\site-packages\\IPython\\core\\ultratb.py\", line 1112, in structured_traceback\n",
      "  File \"c:\\Users\\Admin\\FSDS_NOV_deepCNNClassifier\\FSDS_NOV_deepCNNClassifier\\env\\lib\\site-packages\\IPython\\core\\ultratb.py\", line 1006, in structured_traceback\n",
      "  File \"c:\\Users\\Admin\\FSDS_NOV_deepCNNClassifier\\FSDS_NOV_deepCNNClassifier\\env\\lib\\site-packages\\IPython\\core\\ultratb.py\", line 859, in structured_traceback\n",
      "  File \"c:\\Users\\Admin\\FSDS_NOV_deepCNNClassifier\\FSDS_NOV_deepCNNClassifier\\env\\lib\\site-packages\\IPython\\core\\ultratb.py\", line 793, in format_exception_as_a_whole\n",
      "  File \"c:\\Users\\Admin\\FSDS_NOV_deepCNNClassifier\\FSDS_NOV_deepCNNClassifier\\env\\lib\\site-packages\\IPython\\core\\ultratb.py\", line 838, in get_records\n",
      "  File \"c:\\Users\\Admin\\FSDS_NOV_deepCNNClassifier\\FSDS_NOV_deepCNNClassifier\\env\\lib\\site-packages\\pygments\\styles\\__init__.py\", line 84, in get_style_by_name\n",
      "pygments.util.ClassNotFound: Could not find style module 'default', though it should be builtin.\n"
     ]
    }
   ],
   "source": [
    "from deepClassifier.constants import *\n",
    "from deepClassifier.utils import read_yaml, create_directories"
   ]
  },
  {
   "cell_type": "code",
   "execution_count": null,
   "metadata": {},
   "outputs": [],
   "source": []
  },
  {
   "cell_type": "code",
   "execution_count": null,
   "metadata": {},
   "outputs": [],
   "source": []
  }
 ],
 "metadata": {
  "kernelspec": {
   "display_name": "Python 3.9.13 (conda)",
   "language": "python",
   "name": "python3"
  },
  "language_info": {
   "codemirror_mode": {
    "name": "ipython",
    "version": 3
   },
   "file_extension": ".py",
   "mimetype": "text/x-python",
   "name": "python",
   "nbconvert_exporter": "python",
   "pygments_lexer": "ipython3",
   "version": "3.9.13"
  },
  "orig_nbformat": 4,
  "vscode": {
   "interpreter": {
    "hash": "a0498690b4e6ee70a25f676a95c54f45cfaf562a15caa5844eb5dd20bccfec00"
   }
  }
 },
 "nbformat": 4,
 "nbformat_minor": 2
}
